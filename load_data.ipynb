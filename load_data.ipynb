{
 "cells": [
  {
   "cell_type": "code",
   "execution_count": 1,
   "metadata": {
    "colab": {
     "base_uri": "https://localhost:8080/",
     "height": 108
    },
    "colab_type": "code",
    "executionInfo": {
     "elapsed": 4128,
     "status": "ok",
     "timestamp": 1564911057929,
     "user": {
      "displayName": "Amit Bergman",
      "photoUrl": "",
      "userId": "06971393325364132381"
     },
     "user_tz": -180
    },
    "id": "RZ5gbSghh0Nt",
    "outputId": "638dd4b0-c8f6-4fae-8b33-7075051146c7"
   },
   "outputs": [],
   "source": [
    "import os\n",
    "import numpy as np\n",
    "import pandas as pd\n",
    "\n",
    "import nibabel as nib\n",
    "from attr import attrs, attrib\n",
    "from typing import List\n",
    "from collections import defaultdict\n",
    "import re"
   ]
  },
  {
   "cell_type": "code",
   "execution_count": 2,
   "metadata": {},
   "outputs": [],
   "source": [
    "@attrs\n",
    "class SubjectExperimentData:\n",
    "    subject_id: int = attrib()\n",
    "    features_data: dict = attrib()\n",
    "    tasks_data: dict = attrib() \n",
    "\n",
    "@attrs \n",
    "class ExperimentData:\n",
    "    subjects_data: List[SubjectExperimentData] = attrib()\n",
    "    # (x, y, z)\n",
    "    shape: tuple = attrib() "
   ]
  },
  {
   "cell_type": "code",
   "execution_count": 3,
   "metadata": {},
   "outputs": [],
   "source": [
    "def convert_nifty_to_image_array(path: str) -> np.array:\n",
    "    data = nib.load(path).get_fdata()\n",
    "    return np.array(np.nan_to_num(data))"
   ]
  },
  {
   "cell_type": "code",
   "execution_count": 4,
   "metadata": {},
   "outputs": [],
   "source": [
    "def merge_subject_dfs(dfs: List[pd.DataFrame], column_to_merge_on='Sub') -> pd.DataFrame:\n",
    "    first_df, *rest = dfs\n",
    "    data = first_df.to_dict(orient='records')\n",
    "    data = {datum[column_to_merge_on]: datum for datum in data}\n",
    "    for df in rest:\n",
    "        data_to_update = df.to_dict(orient='record')\n",
    "        data_to_update = {datum[column_to_merge_on]: datum for datum in data_to_update}\n",
    "        for subject_id, subject_data in data_to_update.items():\n",
    "            if subject_id not in data:\n",
    "                data[subject_id] = subject_data\n",
    "            else:\n",
    "                data[subject_id].update(subject_data)\n",
    "    \n",
    "    return pd.DataFrame(data=data.values())"
   ]
  },
  {
   "cell_type": "code",
   "execution_count": 5,
   "metadata": {},
   "outputs": [],
   "source": [
    "SUBJECT_NAME_REGEX = re.compile('sub-(\\d+).*')"
   ]
  },
  {
   "cell_type": "code",
   "execution_count": 8,
   "metadata": {
    "colab": {},
    "colab_type": "code",
    "id": "J5GFPZhZnxv5"
   },
   "outputs": [],
   "source": [
    "def create_subject_experiment_data(excel_paths, nifty_tasks) -> ExperimentData:\n",
    "    tasks_data = defaultdict(dict)\n",
    "    experiment_data = []\n",
    "    dfs = []\n",
    "    \n",
    "    for excel_path in excel_paths:\n",
    "        # Read excel file with multiple sheets, merging the data belonging to the same subject\n",
    "        if excel_path.endswith('.xlsx') or excel_path.endswith('.xls'):\n",
    "            xls = pd.ExcelFile(excel_path)\n",
    "            for sheet in xls.sheet_names:\n",
    "                dfs.append(pd.read_excel(excel_path, sheet_name=sheet))\n",
    "            \n",
    "            features_df = merge_subject_dfs(dfs)\n",
    "                        \n",
    "        else:\n",
    "            raise Exception()\n",
    "        \n",
    "    \n",
    "    # Transform NaN/NaT to None\n",
    "    features_df = features_df.where((pd.notnull(features_df)), None)\n",
    "    \n",
    "    subjects = sorted(list(features_df['Sub']))\n",
    "    \n",
    "    # Extract fMRI data\n",
    "    for nifty_dir, task_name in nifty_tasks:\n",
    "        for fname in sorted(filter(lambda f: f.endswith('.nii'), os.listdir(nifty_dir))):\n",
    "            pth = os.path.join(nifty_dir, fname)\n",
    "            subject_num = int(SUBJECT_NAME_REGEX.findall(os.path.basename(pth))[0])\n",
    "            tasks_data[subject_num][task_name] = convert_nifty_to_image_array(pth)\n",
    "    \n",
    "    for subject in subjects:\n",
    "        features_data = features_df[features_df.Sub==subject].to_dict(orient='records')[0]\n",
    "        features_data.pop('Sub')\n",
    "        experiment_data.append(SubjectExperimentData(\n",
    "            subject_id=int(subject),\n",
    "            tasks_data=tasks_data[subject],\n",
    "            features_data=features_data\n",
    "            \n",
    "        ))\n",
    "    \n",
    "    # Assuming all scans were done using the same scanning option and have the same shape\n",
    "    example_tasks_data = tasks_data[subject]\n",
    "    shape = example_tasks_data[list(example_tasks_data.keys())[0]].shape\n",
    "    \n",
    "        \n",
    "    return ExperimentData(subjects_data=experiment_data, shape=shape)"
   ]
  },
  {
   "cell_type": "code",
   "execution_count": null,
   "metadata": {},
   "outputs": [],
   "source": []
  }
 ],
 "metadata": {
  "colab": {
   "collapsed_sections": [],
   "name": "loading_the_data.ipynb",
   "provenance": [],
   "version": "0.3.2"
  },
  "kernelspec": {
   "display_name": "brain",
   "language": "python",
   "name": "brain"
  },
  "language_info": {
   "codemirror_mode": {
    "name": "ipython",
    "version": 3
   },
   "file_extension": ".py",
   "mimetype": "text/x-python",
   "name": "python",
   "nbconvert_exporter": "python",
   "pygments_lexer": "ipython3",
   "version": "3.7.3"
  }
 },
 "nbformat": 4,
 "nbformat_minor": 4
}
